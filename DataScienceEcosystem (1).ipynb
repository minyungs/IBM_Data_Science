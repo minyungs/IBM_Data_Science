{
 "cells": [
  {
   "cell_type": "markdown",
   "id": "fe39eed4",
   "metadata": {},
   "source": [
    "# Data Science Tools and Ecosystem "
   ]
  },
  {
   "cell_type": "markdown",
   "id": "7ba5ff02",
   "metadata": {},
   "source": [
    "In this notebook, Data Science Tools and Ecosystem are summarized."
   ]
  },
  {
   "attachments": {},
   "cell_type": "markdown",
   "id": "111e2fd6",
   "metadata": {},
   "source": [
    "objectives:\n",
    "\n",
    "* List popular languages for Data Science\n",
    "\n",
    "* libraries used by Data Scientists\n",
    "\n",
    "* Insert code and markdown cells in Jupyter Notebook\n",
    "\n",
    "* Share notebook through GitHub"
   ]
  },
  {
   "cell_type": "markdown",
   "id": "f942fb24",
   "metadata": {},
   "source": [
    "Some of the popular languages that Data Scientists use are:\n",
    "1. Python\n",
    "2. R\n",
    "3. SQL"
   ]
  },
  {
   "cell_type": "markdown",
   "id": "4914b247",
   "metadata": {},
   "source": [
    "Some of the commonly used libraries used by Data Scientists include:\n",
    "1. Pandas\n",
    "2. NumPy\n",
    "3. Matplotlib"
   ]
  },
  {
   "cell_type": "markdown",
   "id": "53ab5c7c",
   "metadata": {},
   "source": [
    "| Data Science Tools |\n",
    "|--------------------|\n",
    "| Jupyter Notebook   |\n",
    "| RStudio            |\n",
    "| Spyder             |"
   ]
  },
  {
   "cell_type": "markdown",
   "id": "a6b48d6b",
   "metadata": {},
   "source": [
    "### Arithmetic Expression Examples\n",
    "\n",
    "Below are a few examples of evaluating arithmetic expressions in Python:\n",
    "\n",
    "1. Addition: `2 + 3 = 5`\n",
    "2. Subtraction: `5 - 3 = 2`\n",
    "3. Multiplication: `2 * 3 = 6`\n",
    "4. Division: `6 / 2 = 3`\n",
    "5. Exponentiation: `2 ** 3 = 8`\n"
   ]
  },
  {
   "cell_type": "code",
   "execution_count": 4,
   "id": "f1b269d5",
   "metadata": {},
   "outputs": [
    {
     "data": {
      "text/plain": [
       "17"
      ]
     },
     "execution_count": 4,
     "metadata": {},
     "output_type": "execute_result"
    }
   ],
   "source": [
    "#This a simple arithmetic expression to mutiply then add integers#\n",
    "(3*4)+5"
   ]
  },
  {
   "cell_type": "code",
   "execution_count": 5,
   "id": "cbd3079b",
   "metadata": {},
   "outputs": [
    {
     "data": {
      "text/plain": [
       "3.3333333333333335"
      ]
     },
     "execution_count": 5,
     "metadata": {},
     "output_type": "execute_result"
    }
   ],
   "source": [
    "#This will convert 200 minutes to hours by diving by 60#\n",
    "200/60"
   ]
  },
  {
   "cell_type": "markdown",
   "id": "12e2107e",
   "metadata": {},
   "source": [
    "## Author\n",
    "Minyung Song"
   ]
  }
 ],
 "metadata": {
  "kernelspec": {
   "display_name": "Python 3 (ipykernel)",
   "language": "python",
   "name": "python3"
  },
  "language_info": {
   "codemirror_mode": {
    "name": "ipython",
    "version": 3
   },
   "file_extension": ".py",
   "mimetype": "text/x-python",
   "name": "python",
   "nbconvert_exporter": "python",
   "pygments_lexer": "ipython3",
   "version": "3.11.4"
  }
 },
 "nbformat": 4,
 "nbformat_minor": 5
}
